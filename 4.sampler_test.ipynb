{
 "cells": [
  {
   "cell_type": "code",
   "execution_count": 1,
   "metadata": {},
   "outputs": [
    {
     "name": "stderr",
     "output_type": "stream",
     "text": [
      "Using TensorFlow backend.\n"
     ]
    }
   ],
   "source": [
    "from lightgbm import LGBMClassifier\n",
    "from sklearn.metrics import roc_auc_score\n",
    "import matplotlib.pyplot as plt\n",
    "import pandas as pd\n",
    "import numpy as np\n",
    "from sklearn.model_selection import StratifiedKFold, KFold\n",
    "from imblearn.over_sampling import SMOTE\n",
    "from imblearn.under_sampling import RandomUnderSampler\n",
    "import warnings\n",
    "\n",
    "warnings.filterwarnings('ignore')\n",
    "\n",
    "pd.set_option('expand_frame_repr', False)\n",
    "pd.set_option('display.max_rows', 50)\n",
    "pd.set_option('display.max_columns', 200)"
   ]
  },
  {
   "cell_type": "markdown",
   "metadata": {},
   "source": [
    "# Base Line Model"
   ]
  },
  {
   "cell_type": "code",
   "execution_count": 2,
   "metadata": {},
   "outputs": [],
   "source": [
    "def train_lgbm(X, y, plot=False):\n",
    "    data = pd.DataFrame(y)\n",
    "\n",
    "    models = []\n",
    "    scores = []\n",
    "\n",
    "    kf = StratifiedKFold(n_splits=5, random_state=42)\n",
    "    for i, (tdx, vdx) in enumerate(kf.split(X, y)):\n",
    "        print(f'Fold : {i}')\n",
    "        X_train, X_val, y_train, y_val = X.loc[tdx], X.loc[vdx], y.loc[tdx], y.loc[vdx]\n",
    "        y_true = y_val\n",
    "\n",
    "        params = {\n",
    "            'learning_rate': .05,\n",
    "            'n_estimators': 2000,\n",
    "            'num_leaves': 50,\n",
    "            'min_split_gain': 0,\n",
    "            'min_child_weight': 1e-3,\n",
    "            'min_child_samples': 21,\n",
    "            'subsample': .8,\n",
    "            'colsample_bytree': .8,\n",
    "\n",
    "            'n_jobs': -1,\n",
    "            'random_state': 0\n",
    "        }\n",
    "        model = LGBMClassifier().set_params(**params)\n",
    "        model.fit(X_train, y_train, eval_set=[(X_train, y_train), (X_val, y_val)], early_stopping_rounds=50,\n",
    "                  verbose=False)\n",
    "\n",
    "        ## plot feature importance\n",
    "        if plot:\n",
    "            fscores = pd.Series(model.feature_importances_, X_train.columns).sort_values(ascending=False)\n",
    "            fscores.plot(kind='bar', title='Feature Importance %d' % i, figsize=(20, 10))\n",
    "            plt.ylabel('Feature Importance Score')\n",
    "            plt.show()\n",
    "\n",
    "        y_pred = model.predict_proba(X_val, num_iteration=model.best_iteration_)[:,1]\n",
    "        auc = roc_auc_score(y_true, y_pred)\n",
    "        print(\"AUC score at %d floder: %f\" % (i, auc))\n",
    "        scores.append(auc)\n",
    "        models.append(model)\n",
    "        data.loc[vdx, 'y_pred'] = y_pred\n",
    "\n",
    "    mean_score = np.mean(scores)\n",
    "    print(\"5-floder total mean_score:\", mean_score)\n",
    "    print(\"----train lgbm finish!----\")\n",
    "    print(roc_auc_score(data['y'], data['y_pred']))\n",
    "\n",
    "    return data['y_pred']"
   ]
  },
  {
   "cell_type": "markdown",
   "metadata": {},
   "source": [
    "# Load process data"
   ]
  },
  {
   "cell_type": "code",
   "execution_count": 3,
   "metadata": {},
   "outputs": [],
   "source": [
    "data = pd.read_csv('process_data/process_data.csv')"
   ]
  },
  {
   "cell_type": "markdown",
   "metadata": {},
   "source": [
    "# Original Data"
   ]
  },
  {
   "cell_type": "code",
   "execution_count": 4,
   "metadata": {},
   "outputs": [
    {
     "name": "stdout",
     "output_type": "stream",
     "text": [
      "0    37903\n",
      "1     4905\n",
      "Name: y, dtype: int64\n",
      "Fold : 0\n",
      "AUC score at 0 floder: 0.902332\n",
      "Fold : 1\n",
      "AUC score at 1 floder: 0.699276\n",
      "Fold : 2\n",
      "AUC score at 2 floder: 0.531219\n",
      "Fold : 3\n",
      "AUC score at 3 floder: 0.775808\n",
      "Fold : 4\n",
      "AUC score at 4 floder: 0.841640\n",
      "5-floder total mean_score: 0.7500549005530306\n",
      "----train lgbm finish!----\n",
      "0.7709561019849934\n"
     ]
    },
    {
     "data": {
      "text/plain": [
       "0        0.054284\n",
       "1        0.029658\n",
       "2        0.017008\n",
       "3        0.026988\n",
       "4        0.043360\n",
       "           ...   \n",
       "42803    0.189308\n",
       "42804    0.220058\n",
       "42805    0.206039\n",
       "42806    0.124980\n",
       "42807    0.152191\n",
       "Name: y_pred, Length: 42808, dtype: float64"
      ]
     },
     "execution_count": 4,
     "metadata": {},
     "output_type": "execute_result"
    }
   ],
   "source": [
    "X = data.copy()\n",
    "y = X.pop('y')\n",
    "print(y.value_counts())\n",
    "train_lgbm(X,y,plot=False)"
   ]
  },
  {
   "cell_type": "markdown",
   "metadata": {},
   "source": [
    "# Over sampling"
   ]
  },
  {
   "cell_type": "code",
   "execution_count": 5,
   "metadata": {},
   "outputs": [],
   "source": [
    "def over_sampler(df):\n",
    "    # col = df.columns.tolist()\n",
    "    X = df.copy()\n",
    "    y = X.pop('y')\n",
    "    print(X.shape, y.shape)\n",
    "    smo = SMOTE(random_state=42)\n",
    "    X_smo, y_smo = smo.fit_sample(X, y)\n",
    "    print(X_smo.shape, y_smo.shape)\n",
    "    return X_smo, y_smo"
   ]
  },
  {
   "cell_type": "code",
   "execution_count": 6,
   "metadata": {},
   "outputs": [
    {
     "name": "stdout",
     "output_type": "stream",
     "text": [
      "(42808, 64) (42808,)\n",
      "(75806, 64) (75806,)\n",
      "1    37903\n",
      "0    37903\n",
      "Name: y, dtype: int64\n",
      "Fold : 0\n",
      "AUC score at 0 floder: 0.902812\n",
      "Fold : 1\n",
      "AUC score at 1 floder: 0.993895\n",
      "Fold : 2\n",
      "AUC score at 2 floder: 0.990467\n",
      "Fold : 3\n",
      "AUC score at 3 floder: 0.994505\n",
      "Fold : 4\n",
      "AUC score at 4 floder: 0.952715\n",
      "5-floder total mean_score: 0.9668789101713751\n",
      "----train lgbm finish!----\n",
      "0.9505115239554506\n"
     ]
    },
    {
     "data": {
      "text/plain": [
       "0        0.177953\n",
       "1        0.133845\n",
       "2        0.114435\n",
       "3        0.131223\n",
       "4        0.153713\n",
       "           ...   \n",
       "75801    0.987307\n",
       "75802    0.782475\n",
       "75803    0.920679\n",
       "75804    0.824312\n",
       "75805    0.818684\n",
       "Name: y_pred, Length: 75806, dtype: float64"
      ]
     },
     "execution_count": 6,
     "metadata": {},
     "output_type": "execute_result"
    }
   ],
   "source": [
    "X,y = over_sampler(data)\n",
    "print(y.value_counts())\n",
    "train_lgbm(X,y,plot=False)"
   ]
  },
  {
   "cell_type": "markdown",
   "metadata": {},
   "source": [
    "# under sampling"
   ]
  },
  {
   "cell_type": "code",
   "execution_count": 7,
   "metadata": {},
   "outputs": [],
   "source": [
    "def under_sampler(df):\n",
    "    X = df.copy()\n",
    "    y = X.pop('y')\n",
    "    print(X.shape, y.shape)\n",
    "    under = RandomUnderSampler(random_state=42)\n",
    "    X_under, y_under = under.fit_sample(X, y)\n",
    "    print(X_under.shape, y_under.shape)\n",
    "    return X_under, y_under"
   ]
  },
  {
   "cell_type": "code",
   "execution_count": 8,
   "metadata": {},
   "outputs": [
    {
     "name": "stdout",
     "output_type": "stream",
     "text": [
      "(42808, 64) (42808,)\n",
      "(9810, 64) (9810,)\n",
      "1    4905\n",
      "0    4905\n",
      "Name: y, dtype: int64\n",
      "Fold : 0\n",
      "AUC score at 0 floder: 0.883617\n",
      "Fold : 1\n",
      "AUC score at 1 floder: 0.842913\n",
      "Fold : 2\n",
      "AUC score at 2 floder: 0.808913\n",
      "Fold : 3\n",
      "AUC score at 3 floder: 0.863885\n",
      "Fold : 4\n",
      "AUC score at 4 floder: 0.931777\n",
      "5-floder total mean_score: 0.8662209919146765\n",
      "----train lgbm finish!----\n",
      "0.8685269872740063\n"
     ]
    },
    {
     "data": {
      "text/plain": [
       "0       0.122363\n",
       "1       0.066982\n",
       "2       0.069140\n",
       "3       0.165093\n",
       "4       0.574217\n",
       "          ...   \n",
       "9805    0.842793\n",
       "9806    0.370974\n",
       "9807    0.934544\n",
       "9808    0.908655\n",
       "9809    0.938256\n",
       "Name: y_pred, Length: 9810, dtype: float64"
      ]
     },
     "execution_count": 8,
     "metadata": {},
     "output_type": "execute_result"
    }
   ],
   "source": [
    "X,y = under_sampler(data)\n",
    "print(y.value_counts())\n",
    "train_lgbm(X,y,plot=False)"
   ]
  }
 ],
 "metadata": {
  "kernelspec": {
   "display_name": "Python 3",
   "language": "python",
   "name": "python3"
  },
  "language_info": {
   "codemirror_mode": {
    "name": "ipython",
    "version": 3
   },
   "file_extension": ".py",
   "mimetype": "text/x-python",
   "name": "python",
   "nbconvert_exporter": "python",
   "pygments_lexer": "ipython3",
   "version": "3.6.5"
  }
 },
 "nbformat": 4,
 "nbformat_minor": 2
}
